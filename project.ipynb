{
  "nbformat": 4,
  "nbformat_minor": 0,
  "metadata": {
    "colab": {
      "name": "project.ipynb",
      "provenance": [],
      "collapsed_sections": []
    },
    "kernelspec": {
      "name": "python3",
      "display_name": "Python 3"
    },
    "language_info": {
      "name": "python"
    }
  },
  "cells": [
    {
      "cell_type": "code",
      "metadata": {
        "colab": {
          "base_uri": "https://localhost:8080/"
        },
        "id": "qB2B6P-FW9qO",
        "outputId": "13a6b4e7-2527-40c6-e635-76ba3ff2079d"
      },
      "source": [
        "pip install mysql-connector-python-rf"
      ],
      "execution_count": 2,
      "outputs": [
        {
          "output_type": "stream",
          "name": "stdout",
          "text": [
            "Collecting mysql-connector-python-rf\n",
            "  Downloading mysql-connector-python-rf-2.2.2.tar.gz (11.9 MB)\n",
            "\u001b[K     |████████████████████████████████| 11.9 MB 5.6 MB/s \n",
            "\u001b[?25hBuilding wheels for collected packages: mysql-connector-python-rf\n",
            "  Building wheel for mysql-connector-python-rf (setup.py) ... \u001b[?25l\u001b[?25hdone\n",
            "  Created wheel for mysql-connector-python-rf: filename=mysql_connector_python_rf-2.2.2-cp37-cp37m-linux_x86_64.whl size=249476 sha256=6ff147b111fa1be027cd419a43e7aa9d2598446ab817e057148ea7e3093df118\n",
            "  Stored in directory: /root/.cache/pip/wheels/68/59/cf/3b03557b26b4c75af3788a553e0ff9cf0b37a22d0c9cb01979\n",
            "Successfully built mysql-connector-python-rf\n",
            "Installing collected packages: mysql-connector-python-rf\n",
            "Successfully installed mysql-connector-python-rf-2.2.2\n"
          ]
        }
      ]
    },
    {
      "cell_type": "code",
      "metadata": {
        "id": "B3A6HpMgWdVf"
      },
      "source": [
        "import mysql.connector\n",
        "from mysql.connector import Error\n",
        "import pandas as pd"
      ],
      "execution_count": 24,
      "outputs": []
    },
    {
      "cell_type": "code",
      "metadata": {
        "colab": {
          "base_uri": "https://localhost:8080/"
        },
        "id": "uM_-gqv9WkTj",
        "outputId": "05dcec01-a224-4bbe-efd8-69dd940de8a0"
      },
      "source": [
        "def create_server_connection(host_name, user_name, user_password):\n",
        "    connection = None\n",
        "    try:\n",
        "        connection = mysql.connector.connect(\n",
        "            host=host_name,\n",
        "            user=user_name,\n",
        "            passwd=user_password\n",
        "        )\n",
        "        print(\"MySQL Database connection successful\")\n",
        "    except Error as err:\n",
        "        print(f\"Error: '{err}'\")\n",
        "\n",
        "    return connection\n",
        "\n",
        "pw = \"Ytint3fRnK\" \n",
        "db = \"sql6455484\"\n",
        "host_name = \"sql6.freesqldatabase.com\"\n",
        "user_name = \"sql6455484\"\n",
        "\n",
        "connection = create_server_connection(host_name, user_name, pw)"
      ],
      "execution_count": 25,
      "outputs": [
        {
          "output_type": "stream",
          "name": "stdout",
          "text": [
            "MySQL Database connection successful\n"
          ]
        }
      ]
    },
    {
      "cell_type": "code",
      "metadata": {
        "colab": {
          "base_uri": "https://localhost:8080/"
        },
        "id": "mNCVJgv_X1Gj",
        "outputId": "296d5de1-5efc-4afc-b3d3-c3decc23d1ac"
      },
      "source": [
        "def create_database(connection, query):\n",
        "    cursor = connection.cursor()\n",
        "    try:\n",
        "        cursor.execute(query)\n",
        "        print(\"Database created successfully\")\n",
        "    except Error as err:\n",
        "        print(f\"Error: '{err}'\")\n",
        "\n",
        "create_database_query = \"CREATE DATABASE sql6455484\"\n",
        "create_database(connection, create_database_query)"
      ],
      "execution_count": 26,
      "outputs": [
        {
          "output_type": "stream",
          "name": "stdout",
          "text": [
            "Error: '1007 (HY000): Can't create database 'sql6455484'; database exists'\n"
          ]
        }
      ]
    },
    {
      "cell_type": "code",
      "metadata": {
        "id": "vofIxDkvYAbJ"
      },
      "source": [
        "def execute_query(connection, query):\n",
        "    cursor = connection.cursor()\n",
        "    try:\n",
        "        cursor.execute(query)\n",
        "        connection.commit()\n",
        "        print(\"Query successful\")\n",
        "    except Error as err:\n",
        "        print(f\"Error: '{err}'\")"
      ],
      "execution_count": 27,
      "outputs": []
    },
    {
      "cell_type": "code",
      "metadata": {
        "colab": {
          "base_uri": "https://localhost:8080/"
        },
        "id": "htZQhmvBYkmF",
        "outputId": "9e54f239-ac38-49ba-9551-1f3ef57b1126"
      },
      "source": [
        "create_movies_table = \"\"\"\n",
        "CREATE TABLE movies (\n",
        "  movie_name varchar(40) PRIMARY KEY,\n",
        "  actor VARCHAR(40) NOT NULL,\n",
        "  actress VARCHAR(40) NOT NULL,\n",
        "  release_year INT NOT NULL,\n",
        "  director_name VARCHAR(40) NOT NULL\n",
        "  );\n",
        " \"\"\"\n",
        "\n",
        "connection = create_db_connection(host_name, user_name, pw, db) \n",
        "execute_query(connection, create_movies_table) "
      ],
      "execution_count": 28,
      "outputs": [
        {
          "output_type": "stream",
          "name": "stdout",
          "text": [
            "MySQL Database connection successful\n",
            "Error: '1050 (42S01): Table 'movies' already exists'\n"
          ]
        }
      ]
    },
    {
      "cell_type": "code",
      "metadata": {
        "colab": {
          "base_uri": "https://localhost:8080/"
        },
        "id": "PkHCxYjMaFlx",
        "outputId": "29e4803d-8f38-4f8d-a30a-ef802a1a288b"
      },
      "source": [
        "insert_movies = \"\"\"\n",
        "INSERT INTO movies VALUES\n",
        "('3 idiots', 'Aamir Khan', 'Kareena Kapoor', 2019 , 'Rajkumar Hirani'),\n",
        "('Goodfellas', 'Joe Pesci', 'Lorraine Bracco', 1990, 'Martin Scorsese'), \n",
        "('Joker', 'Joaquin Phoenix', 'Zazie Beetz', 2019, 'Todd Phillips'),\n",
        "('Hitman', 'Timothy Olyphant', 'Olga Kurylenko', 2007, 'Xavier Gens'),\n",
        "('Lagaan', 'Aamir Khan', 'Gracy Singh', 2001, 'Ashutosh Gowariker'),\n",
        "('Narnia', 'Skandar Keynes', 'Georgie Henley', 2005, 'Andrew Adamson')\n",
        "\"\"\"\n",
        "\n",
        "connection = create_db_connection(host_name, user_name, pw, db)\n",
        "execute_query(connection, insert_movies)"
      ],
      "execution_count": 29,
      "outputs": [
        {
          "output_type": "stream",
          "name": "stdout",
          "text": [
            "MySQL Database connection successful\n",
            "Error: '1062 (23000): Duplicate entry '3 idiots' for key 'PRIMARY''\n"
          ]
        }
      ]
    },
    {
      "cell_type": "code",
      "metadata": {
        "id": "nBwbxIhCdPIf"
      },
      "source": [
        "def read_query(connection, query):\n",
        "    cursor = connection.cursor()\n",
        "    result = None\n",
        "    try:\n",
        "        cursor.execute(query)\n",
        "        result = cursor.fetchall()\n",
        "        return result\n",
        "    except Error as err:\n",
        "        print(f\"Error: '{err}'\")"
      ],
      "execution_count": 30,
      "outputs": []
    },
    {
      "cell_type": "code",
      "metadata": {
        "id": "4CKtEakYdd_F"
      },
      "source": [
        "def display_table(results):\n",
        "  from_db = []\n",
        "\n",
        "  for result in results:\n",
        "    result = list(result)\n",
        "    from_db.append(result)\n",
        "\n",
        "\n",
        "  columns = [\"movie_name\", \"actor\", \"actress\", \"release_year\", \"director_name\"]\n",
        "  df = pd.DataFrame(from_db, columns=columns)\n",
        "\n",
        "  display(df)"
      ],
      "execution_count": 31,
      "outputs": []
    },
    {
      "cell_type": "code",
      "metadata": {
        "colab": {
          "base_uri": "https://localhost:8080/",
          "height": 255
        },
        "id": "S7B_2UJBdZaO",
        "outputId": "00004fdf-3490-4515-b6db-d4ba19922155"
      },
      "source": [
        "q1 = \"\"\"\n",
        "SELECT *\n",
        "FROM movies;\n",
        "\"\"\"\n",
        "\n",
        "\n",
        "connection = create_db_connection(host_name, user_name, pw, db)\n",
        "results = read_query(connection, q1)\n",
        "display_table(results)"
      ],
      "execution_count": 32,
      "outputs": [
        {
          "output_type": "stream",
          "name": "stdout",
          "text": [
            "MySQL Database connection successful\n"
          ]
        },
        {
          "output_type": "display_data",
          "data": {
            "text/html": [
              "<div>\n",
              "<style scoped>\n",
              "    .dataframe tbody tr th:only-of-type {\n",
              "        vertical-align: middle;\n",
              "    }\n",
              "\n",
              "    .dataframe tbody tr th {\n",
              "        vertical-align: top;\n",
              "    }\n",
              "\n",
              "    .dataframe thead th {\n",
              "        text-align: right;\n",
              "    }\n",
              "</style>\n",
              "<table border=\"1\" class=\"dataframe\">\n",
              "  <thead>\n",
              "    <tr style=\"text-align: right;\">\n",
              "      <th></th>\n",
              "      <th>movie_name</th>\n",
              "      <th>actor</th>\n",
              "      <th>actress</th>\n",
              "      <th>release_year</th>\n",
              "      <th>director_name</th>\n",
              "    </tr>\n",
              "  </thead>\n",
              "  <tbody>\n",
              "    <tr>\n",
              "      <th>0</th>\n",
              "      <td>3 idiots</td>\n",
              "      <td>Aamir Khan</td>\n",
              "      <td>Kareena Kapoor</td>\n",
              "      <td>2019</td>\n",
              "      <td>Rajkumar Hirani</td>\n",
              "    </tr>\n",
              "    <tr>\n",
              "      <th>1</th>\n",
              "      <td>Goodfellas</td>\n",
              "      <td>Joe Pesci</td>\n",
              "      <td>Lorraine Bracco</td>\n",
              "      <td>1990</td>\n",
              "      <td>Martin Scorsese</td>\n",
              "    </tr>\n",
              "    <tr>\n",
              "      <th>2</th>\n",
              "      <td>Hitman</td>\n",
              "      <td>Timothy Olyphant</td>\n",
              "      <td>Olga Kurylenko</td>\n",
              "      <td>2007</td>\n",
              "      <td>Xavier Gens</td>\n",
              "    </tr>\n",
              "    <tr>\n",
              "      <th>3</th>\n",
              "      <td>Joker</td>\n",
              "      <td>Joaquin Phoenix</td>\n",
              "      <td>Zazie Beetz</td>\n",
              "      <td>2019</td>\n",
              "      <td>Todd Phillips</td>\n",
              "    </tr>\n",
              "    <tr>\n",
              "      <th>4</th>\n",
              "      <td>Lagaan</td>\n",
              "      <td>Aamir Khan</td>\n",
              "      <td>Gracy Singh</td>\n",
              "      <td>2001</td>\n",
              "      <td>Ashutosh Gowariker</td>\n",
              "    </tr>\n",
              "    <tr>\n",
              "      <th>5</th>\n",
              "      <td>Narnia</td>\n",
              "      <td>Skandar Keynes</td>\n",
              "      <td>Georgie Henley</td>\n",
              "      <td>2005</td>\n",
              "      <td>Andrew Adamson</td>\n",
              "    </tr>\n",
              "  </tbody>\n",
              "</table>\n",
              "</div>"
            ],
            "text/plain": [
              "   movie_name             actor  ... release_year       director_name\n",
              "0    3 idiots        Aamir Khan  ...         2019     Rajkumar Hirani\n",
              "1  Goodfellas         Joe Pesci  ...         1990     Martin Scorsese\n",
              "2      Hitman  Timothy Olyphant  ...         2007         Xavier Gens\n",
              "3       Joker   Joaquin Phoenix  ...         2019       Todd Phillips\n",
              "4      Lagaan        Aamir Khan  ...         2001  Ashutosh Gowariker\n",
              "5      Narnia    Skandar Keynes  ...         2005      Andrew Adamson\n",
              "\n",
              "[6 rows x 5 columns]"
            ]
          },
          "metadata": {}
        }
      ]
    },
    {
      "cell_type": "code",
      "metadata": {
        "colab": {
          "base_uri": "https://localhost:8080/",
          "height": 131
        },
        "id": "YrqnNVnghKKB",
        "outputId": "e6a688f0-3df4-40ff-c28a-e26d4c079ae8"
      },
      "source": [
        "q2 = \"\"\"\n",
        "SELECT *\n",
        "FROM movies\n",
        "WHERE actor = 'Aamir Khan'\n",
        "ORDER BY release_year DESC;\n",
        "\"\"\"\n",
        "\n",
        "\n",
        "connection = create_db_connection(host_name, user_name, pw, db)\n",
        "results = read_query(connection, q2)\n",
        "display_table(results)"
      ],
      "execution_count": 33,
      "outputs": [
        {
          "output_type": "stream",
          "name": "stdout",
          "text": [
            "MySQL Database connection successful\n"
          ]
        },
        {
          "output_type": "display_data",
          "data": {
            "text/html": [
              "<div>\n",
              "<style scoped>\n",
              "    .dataframe tbody tr th:only-of-type {\n",
              "        vertical-align: middle;\n",
              "    }\n",
              "\n",
              "    .dataframe tbody tr th {\n",
              "        vertical-align: top;\n",
              "    }\n",
              "\n",
              "    .dataframe thead th {\n",
              "        text-align: right;\n",
              "    }\n",
              "</style>\n",
              "<table border=\"1\" class=\"dataframe\">\n",
              "  <thead>\n",
              "    <tr style=\"text-align: right;\">\n",
              "      <th></th>\n",
              "      <th>movie_name</th>\n",
              "      <th>actor</th>\n",
              "      <th>actress</th>\n",
              "      <th>release_year</th>\n",
              "      <th>director_name</th>\n",
              "    </tr>\n",
              "  </thead>\n",
              "  <tbody>\n",
              "    <tr>\n",
              "      <th>0</th>\n",
              "      <td>3 idiots</td>\n",
              "      <td>Aamir Khan</td>\n",
              "      <td>Kareena Kapoor</td>\n",
              "      <td>2019</td>\n",
              "      <td>Rajkumar Hirani</td>\n",
              "    </tr>\n",
              "    <tr>\n",
              "      <th>1</th>\n",
              "      <td>Lagaan</td>\n",
              "      <td>Aamir Khan</td>\n",
              "      <td>Gracy Singh</td>\n",
              "      <td>2001</td>\n",
              "      <td>Ashutosh Gowariker</td>\n",
              "    </tr>\n",
              "  </tbody>\n",
              "</table>\n",
              "</div>"
            ],
            "text/plain": [
              "  movie_name       actor         actress  release_year       director_name\n",
              "0   3 idiots  Aamir Khan  Kareena Kapoor          2019     Rajkumar Hirani\n",
              "1     Lagaan  Aamir Khan     Gracy Singh          2001  Ashutosh Gowariker"
            ]
          },
          "metadata": {}
        }
      ]
    },
    {
      "cell_type": "code",
      "metadata": {
        "id": "p4tJZI1mks4J"
      },
      "source": [
        ""
      ],
      "execution_count": null,
      "outputs": []
    }
  ]
}